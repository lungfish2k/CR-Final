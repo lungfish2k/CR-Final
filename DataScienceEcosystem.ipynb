{
  "metadata": {
    "kernelspec": {
      "name": "python",
      "display_name": "Python (Pyodide)",
      "language": "python"
    },
    "language_info": {
      "codemirror_mode": {
        "name": "python",
        "version": 3
      },
      "file_extension": ".py",
      "mimetype": "text/x-python",
      "name": "python",
      "nbconvert_exporter": "python",
      "pygments_lexer": "ipython3",
      "version": "3.8"
    }
  },
  "nbformat_minor": 4,
  "nbformat": 4,
  "cells": [
    {
      "cell_type": "markdown",
      "source": "# H1 : Data Science Tools and Ecosystem",
      "metadata": {}
    },
    {
      "cell_type": "markdown",
      "source": "This is the final project for Data Science Tools, and the notebook will demonstrate various markdown commands and techniques.",
      "metadata": {}
    },
    {
      "cell_type": "markdown",
      "source": "Some of the popular languages used in Data Science.",
      "metadata": {}
    },
    {
      "cell_type": "markdown",
      "source": "1. Java\n2. C++\n3. C\n4. Python\n5. Julia\n6. R",
      "metadata": {}
    },
    {
      "cell_type": "markdown",
      "source": "A list of some data science libraries.",
      "metadata": {}
    },
    {
      "cell_type": "markdown",
      "source": "1. NumPy\n2. Pandas\n3. Tensor Flow\n4. SciPy\n5. Scrapy\n",
      "metadata": {}
    },
    {
      "cell_type": "markdown",
      "source": "A table of some data science tools.",
      "metadata": {}
    },
    {
      "cell_type": "markdown",
      "source": "|Data Science Tools|\n|---------------------|\n|Pandas|\n|Jupyter Notebooks|\n|Spark SQL|\n|RStudio|",
      "metadata": {}
    },
    {
      "cell_type": "markdown",
      "source": "### Below are a few examples of evaluating arithmetic expressions in Python.",
      "metadata": {}
    },
    {
      "cell_type": "code",
      "source": "# This is a simple arithmetic expression to multiply and then add integers.",
      "metadata": {
        "trusted": true
      },
      "outputs": [],
      "execution_count": 8
    },
    {
      "cell_type": "code",
      "source": "(3*4)+5",
      "metadata": {
        "trusted": true
      },
      "outputs": [
        {
          "execution_count": 9,
          "output_type": "execute_result",
          "data": {
            "text/plain": "17"
          },
          "metadata": {}
        }
      ],
      "execution_count": 9
    },
    {
      "cell_type": "code",
      "source": "#This will convert 200 minutes to hours by dividing by 60.\n(200/60)",
      "metadata": {
        "trusted": true
      },
      "outputs": [
        {
          "execution_count": 10,
          "output_type": "execute_result",
          "data": {
            "text/plain": "3.3333333333333335"
          },
          "metadata": {}
        }
      ],
      "execution_count": 10
    },
    {
      "cell_type": "markdown",
      "source": "List of some objectives in this notebook.",
      "metadata": {}
    },
    {
      "cell_type": "markdown",
      "source": "**Objectives:**",
      "metadata": {}
    },
    {
      "cell_type": "markdown",
      "source": "- Evaluating Arithmetic Expressions\n- Building an Ordered List\n- Creating a Simple Table\n- Use Headings\n- Creating an Unordered List",
      "metadata": {}
    },
    {
      "cell_type": "markdown",
      "source": "## Author",
      "metadata": {}
    },
    {
      "cell_type": "markdown",
      "source": "Curtis Reynolds",
      "metadata": {}
    },
    {
      "cell_type": "code",
      "source": "",
      "metadata": {
        "trusted": true
      },
      "outputs": [],
      "execution_count": null
    }
  ]
}